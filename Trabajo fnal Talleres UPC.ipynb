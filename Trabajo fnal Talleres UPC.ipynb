{
 "cells": [
  {
   "cell_type": "code",
   "execution_count": 1,
   "id": "3cc80f5d-40f4-4c04-a2bf-c5d6de13bfd2",
   "metadata": {},
   "outputs": [],
   "source": [
    "#*Universidad Peruana de Ciencias Aplicadas. *"
   ]
  },
  {
   "cell_type": "code",
   "execution_count": 2,
   "id": "426af037-e899-4acf-a8b2-aa9872c41724",
   "metadata": {},
   "outputs": [],
   "source": [
    "#Curso: Talleres Docente: Carlos Fernando Montoya Cubas."
   ]
  },
  {
   "cell_type": "code",
   "execution_count": 3,
   "id": "2100ff20-e87c-4c9b-92fa-c848ef02f800",
   "metadata": {},
   "outputs": [],
   "source": [
    "#*Trabajo Final *"
   ]
  },
  {
   "cell_type": "code",
   "execution_count": 4,
   "id": "25ffbe19-e988-4c6b-b55c-bbe931209d39",
   "metadata": {},
   "outputs": [],
   "source": [
    "#Clasificación de Imágenes de Gatos y Perros"
   ]
  },
  {
   "cell_type": "code",
   "execution_count": 5,
   "id": "b5819a9b-e599-44cf-95de-e2d129c642f0",
   "metadata": {},
   "outputs": [],
   "source": [
    "#Fuente: https://www.kaggle.com/code/demko1/cat-dog-clasification/input"
   ]
  },
  {
   "cell_type": "code",
   "execution_count": 6,
   "id": "4e78ff7d-c84b-4158-a13e-ae786554fd80",
   "metadata": {},
   "outputs": [],
   "source": [
    "#Integrantes:\n",
    "\n",
    "#Amalia Roscío Villena Romaní\n",
    "#Leonardo Daniel Ramirez Galindo"
   ]
  },
  {
   "cell_type": "code",
   "execution_count": 7,
   "id": "c2f1b2c3-1d6a-454c-b2e1-5cbbd1a31cf8",
   "metadata": {},
   "outputs": [],
   "source": [
    "#Objetivo: Desarrollar un sistema de clasificación binaria de imágenes (gatos vs perros) \n",
    "#mediante redes convolucionales profundas, incorporando técnicas de data augmentation, regularización, \n",
    "#fine-tuning de modelos preentrenados y explicabilidad visual (Grad-CAM), con una app interactiva desplegada online."
   ]
  },
  {
   "cell_type": "code",
   "execution_count": 8,
   "id": "00f35cbd-e728-43d6-b61c-92bade38b35b",
   "metadata": {},
   "outputs": [],
   "source": [
    "#1.- Definición del Problema"
   ]
  },
  {
   "cell_type": "code",
   "execution_count": 9,
   "id": "41368487-3af7-40e3-ad73-b4950066d5d8",
   "metadata": {},
   "outputs": [],
   "source": [
    "#\"Problema del negocio: Empresas de adopción de mascotas, plataformas sociales o apps móviles requieren un sistema que clasifique automáticamente imágenes de mascotas (gato o perro) subidas por los usuarios, garantizando velocidad, precisión y explicabilidad visual.\n",
    "\n",
    "#Tipo de problema: Clasificación binaria supervisada de imágenes.\n",
    "\n",
    "#Justificación:\n",
    "\n",
    "#Aprovechamos modelos de visión por computadora.\n",
    "\n",
    "#Es un problema clásico con datasets públicos y benchmarking.\n",
    "\n",
    "#Permite explorar desde CNN básicas hasta modelos preentrenados y Grad-CAM.\n",
    "\n",
    "#Dataset:\n",
    "\n",
    "#Dogs vs. Cats (Kaggle). Se procesará a:\n",
    "\n",
    "#Entrenamiento (70%)\n",
    "#Validación (15%)\n",
    "#Prueba (15%)"
   ]
  },
  {
   "cell_type": "code",
   "execution_count": 10,
   "id": "584b7745-dbb2-471c-a6b0-6fbe11391f07",
   "metadata": {},
   "outputs": [],
   "source": [
    "#2.- Construcción del Modelo"
   ]
  },
  {
   "cell_type": "code",
   "execution_count": 11,
   "id": "a6cc9508-a189-4372-bf5d-4ffc438038a1",
   "metadata": {},
   "outputs": [],
   "source": [
    "#Descompresión y Organización de Archivos"
   ]
  },
  {
   "cell_type": "code",
   "execution_count": 13,
   "id": "baf73b40-e2e3-4a2a-9e5f-b8a330d0633f",
   "metadata": {},
   "outputs": [],
   "source": [
    "import zipfile\n",
    "import os\n",
    "import shutil\n",
    "\n",
    "def descomprimir_y_organizar(zip_path, target_dir):\n",
    "    # Eliminar carpeta de destino si existe\n",
    "    if os.path.exists(target_dir):\n",
    "        shutil.rmtree(target_dir)\n",
    "    \n",
    "    # Descomprimir archivo ZIP\n",
    "    with zipfile.ZipFile(zip_path, 'r') as zip_ref:\n",
    "        zip_ref.extractall(target_dir)\n",
    "    \n",
    "    # Verificar si hay subcarpetas anidadas (ej: training/training/cats)\n",
    "    subfolder_path = os.path.join(target_dir, os.path.splitext(zip_path)[0])\n",
    "    if os.path.exists(subfolder_path):\n",
    "        # Mover subcarpetas a la raíz\n",
    "        for folder in [\"cats\", \"dogs\"]:\n",
    "            src = os.path.join(subfolder_path, folder)\n",
    "            dest = os.path.join(target_dir, folder)\n",
    "            if os.path.exists(src):\n",
    "                shutil.move(src, dest)\n",
    "        shutil.rmtree(subfolder_path)\n",
    "\n",
    "# Ejecutar para training.zip y test.zip\n",
    "descomprimir_y_organizar(\"training.zip\", \"training\")\n",
    "descomprimir_y_organizar(\"test.zip\", \"test\")"
   ]
  },
  {
   "cell_type": "code",
   "execution_count": null,
   "id": "d0bb6974-d319-4b06-971b-eaa5db995c2a",
   "metadata": {},
   "outputs": [],
   "source": [
    "#Carga y Preprocesamiento de Datos (usando tf.data.Dataset)"
   ]
  },
  {
   "cell_type": "code",
   "execution_count": 14,
   "id": "171fc2f8-2404-4950-99f0-1544fc82fa12",
   "metadata": {},
   "outputs": [
    {
     "name": "stdout",
     "output_type": "stream",
     "text": [
      "Found 8005 files belonging to 2 classes.\n",
      "Found 2023 files belonging to 2 classes.\n"
     ]
    }
   ],
   "source": [
    "import tensorflow as tf\n",
    "\n",
    "# Cargar datasets con las nuevas rutas\n",
    "train_dataset = tf.keras.utils.image_dataset_from_directory(\n",
    "    'training',\n",
    "    image_size=(150, 150),\n",
    "    batch_size=32,\n",
    "    label_mode='binary',  # 2 clases: cats (0) y dogs (1)\n",
    "    shuffle=True,\n",
    "    seed=42\n",
    ")\n",
    "\n",
    "test_dataset = tf.keras.utils.image_dataset_from_directory(\n",
    "    'test',\n",
    "    image_size=(150, 150),\n",
    "    batch_size=32,\n",
    "    label_mode='binary'\n",
    ")\n",
    "\n",
    "# Normalización de píxeles (0-1)\n",
    "normalization_layer = tf.keras.layers.Rescaling(1./255)\n",
    "train_dataset = train_dataset.map(lambda x, y: (normalization_layer(x), y))\n",
    "test_dataset = test_dataset.map(lambda x, y: (normalization_layer(x), y))"
   ]
  },
  {
   "cell_type": "code",
   "execution_count": null,
   "id": "316c628e-de75-4ed7-9e84-00b144a1d54d",
   "metadata": {},
   "outputs": [],
   "source": [
    "#Arquitectura de la CNN"
   ]
  },
  {
   "cell_type": "code",
   "execution_count": 15,
   "id": "6671c606-c91d-46f5-8d1d-febd3a33ea6f",
   "metadata": {},
   "outputs": [],
   "source": [
    "from tensorflow.keras import Sequential, Input\n",
    "from tensorflow.keras.layers import Conv2D, MaxPooling2D, Flatten, Dense, Dropout\n",
    "\n",
    "model = Sequential([\n",
    "    Input(shape=(150, 150, 3)),\n",
    "    Conv2D(32, (3,3), activation='relu'),\n",
    "    MaxPooling2D(2,2),\n",
    "    Conv2D(64, (3,3), activation='relu'),\n",
    "    MaxPooling2D(2,2),\n",
    "    Flatten(),\n",
    "    Dense(512, activation='relu'),\n",
    "    Dropout(0.5),  # Regularización\n",
    "    Dense(1, activation='sigmoid')\n",
    "])\n",
    "\n",
    "model.compile(\n",
    "    optimizer='adam',\n",
    "    loss='binary_crossentropy',\n",
    "    metrics=['accuracy', tf.keras.metrics.Precision(name='precision'), tf.keras.metrics.Recall(name='recall')]\n",
    ")"
   ]
  },
  {
   "cell_type": "code",
   "execution_count": null,
   "id": "68a1a9a8-e8c2-47b0-91f7-1ca8873ff8a6",
   "metadata": {},
   "outputs": [],
   "source": [
    "#Entrenamiento con Callbacks"
   ]
  },
  {
   "cell_type": "code",
   "execution_count": 16,
   "id": "0417d413-7721-4a06-bb3c-df3aecf02c43",
   "metadata": {},
   "outputs": [
    {
     "name": "stdout",
     "output_type": "stream",
     "text": [
      "Epoch 1/15\n"
     ]
    },
    {
     "name": "stdout",
     "output_type": "stream",
     "text": [
      "\u001b[1m251/251\u001b[0m \u001b[32m━━━━━━━━━━━━━━━━━━━━\u001b[0m\u001b[37m\u001b[0m \u001b[1m102s\u001b[0m 393ms/step - accuracy: 0.5554 - loss: 1.1295 - precision: 0.5385 - recall: 0.6440 - val_accuracy: 0.6545 - val_loss: 0.6268 - val_precision: 0.7325 - val_recall: 0.4872 - learning_rate: 0.0010\n",
      "Epoch 2/15\n",
      "\u001b[1m251/251\u001b[0m \u001b[32m━━━━━━━━━━━━━━━━━━━━\u001b[0m\u001b[37m\u001b[0m \u001b[1m82s\u001b[0m 327ms/step - accuracy: 0.6957 - loss: 0.5956 - precision: 0.6984 - recall: 0.6801 - val_accuracy: 0.6698 - val_loss: 0.6191 - val_precision: 0.7014 - val_recall: 0.5919 - learning_rate: 0.0010\n",
      "Epoch 3/15\n",
      "\u001b[1m251/251\u001b[0m \u001b[32m━━━━━━━━━━━━━━━━━━━━\u001b[0m\u001b[37m\u001b[0m \u001b[1m88s\u001b[0m 348ms/step - accuracy: 0.7549 - loss: 0.5117 - precision: 0.7615 - recall: 0.7379 - val_accuracy: 0.7093 - val_loss: 0.5899 - val_precision: 0.7377 - val_recall: 0.6502 - learning_rate: 0.0010\n",
      "Epoch 4/15\n",
      "\u001b[1m251/251\u001b[0m \u001b[32m━━━━━━━━━━━━━━━━━━━━\u001b[0m\u001b[37m\u001b[0m \u001b[1m94s\u001b[0m 376ms/step - accuracy: 0.7980 - loss: 0.4172 - precision: 0.8090 - recall: 0.7726 - val_accuracy: 0.7074 - val_loss: 0.7106 - val_precision: 0.6810 - val_recall: 0.7806 - learning_rate: 0.0010\n",
      "Epoch 5/15\n",
      "\u001b[1m251/251\u001b[0m \u001b[32m━━━━━━━━━━━━━━━━━━━━\u001b[0m\u001b[37m\u001b[0m \u001b[1m87s\u001b[0m 347ms/step - accuracy: 0.8962 - loss: 0.2590 - precision: 0.8986 - recall: 0.8908 - val_accuracy: 0.7227 - val_loss: 0.8523 - val_precision: 0.6973 - val_recall: 0.7875 - learning_rate: 0.0010\n",
      "Epoch 6/15\n",
      "\u001b[1m251/251\u001b[0m \u001b[32m━━━━━━━━━━━━━━━━━━━━\u001b[0m\u001b[37m\u001b[0m \u001b[1m79s\u001b[0m 313ms/step - accuracy: 0.9427 - loss: 0.1467 - precision: 0.9425 - recall: 0.9409 - val_accuracy: 0.7242 - val_loss: 0.8583 - val_precision: 0.7056 - val_recall: 0.7698 - learning_rate: 2.0000e-04\n",
      "Epoch 6: early stopping\n"
     ]
    }
   ],
   "source": [
    "from tensorflow.keras.callbacks import EarlyStopping, ReduceLROnPlateau\n",
    "\n",
    "early_stop = EarlyStopping(monitor='val_loss', patience=3, verbose=1)\n",
    "reduce_lr = ReduceLROnPlateau(monitor='val_loss', factor=0.2, patience=2, min_lr=1e-6)\n",
    "\n",
    "history = model.fit(\n",
    "    train_dataset,\n",
    "    epochs=15,\n",
    "    validation_data=test_dataset,\n",
    "    callbacks=[early_stop, reduce_lr],\n",
    "    verbose=1\n",
    ")"
   ]
  },
  {
   "cell_type": "code",
   "execution_count": 17,
   "id": "65d00a91-055d-4e12-998b-503f3f795751",
   "metadata": {},
   "outputs": [],
   "source": [
    "# Guardar modelo para uso en Streamlit\n",
    "model.save('modelo_gatos_perros.keras')"
   ]
  },
  {
   "cell_type": "code",
   "execution_count": null,
   "id": "56b39650-e9a2-4252-bc57-4d0d164c8268",
   "metadata": {},
   "outputs": [],
   "source": [
    "#3.- Evaluación del Modelo"
   ]
  },
  {
   "cell_type": "code",
   "execution_count": null,
   "id": "a9320169-816e-4d56-b739-cd5d430fee2e",
   "metadata": {},
   "outputs": [],
   "source": [
    "# Métricas Clave"
   ]
  },
  {
   "cell_type": "code",
   "execution_count": 18,
   "id": "046258ad-845d-4dbb-9289-22422b6c0589",
   "metadata": {},
   "outputs": [
    {
     "data": {
      "image/png": "[encoded data removed]",
      "text/plain": [
       "<Figure size 1200x400 with 2 Axes>"
      ]
     },
     "metadata": {},
     "output_type": "display_data"
    },
    {
     "name": "stdout",
     "output_type": "stream",
     "text": [
      "\u001b[1m1/1\u001b[0m \u001b[32m━━━━━━━━━━━━━━━━━━━━\u001b[0m\u001b[37m\u001b[0m \u001b[1m0s\u001b[0m 261ms/step\n",
      "\u001b[1m1/1\u001b[0m \u001b[32m━━━━━━━━━━━━━━━━━━━━\u001b[0m\u001b[37m\u001b[0m \u001b[1m0s\u001b[0m 127ms/step\n",
      "\u001b[1m1/1\u001b[0m \u001b[32m━━━━━━━━━━━━━━━━━━━━\u001b[0m\u001b[37m\u001b[0m \u001b[1m0s\u001b[0m 147ms/step\n",
      "\u001b[1m1/1\u001b[0m \u001b[32m━━━━━━━━━━━━━━━━━━━━\u001b[0m\u001b[37m\u001b[0m \u001b[1m0s\u001b[0m 122ms/step\n",
      "\u001b[1m1/1\u001b[0m \u001b[32m━━━━━━━━━━━━━━━━━━━━\u001b[0m\u001b[37m\u001b[0m \u001b[1m0s\u001b[0m 142ms/step\n",
      "\u001b[1m1/1\u001b[0m \u001b[32m━━━━━━━━━━━━━━━━━━━━\u001b[0m\u001b[37m\u001b[0m \u001b[1m0s\u001b[0m 120ms/step\n",
      "\u001b[1m1/1\u001b[0m \u001b[32m━━━━━━━━━━━━━━━━━━━━\u001b[0m\u001b[37m\u001b[0m \u001b[1m0s\u001b[0m 120ms/step\n",
      "\u001b[1m1/1\u001b[0m \u001b[32m━━━━━━━━━━━━━━━━━━━━\u001b[0m\u001b[37m\u001b[0m \u001b[1m0s\u001b[0m 120ms/step\n",
      "\u001b[1m1/1\u001b[0m \u001b[32m━━━━━━━━━━━━━━━━━━━━\u001b[0m\u001b[37m\u001b[0m \u001b[1m0s\u001b[0m 130ms/step\n",
      "\u001b[1m1/1\u001b[0m \u001b[32m━━━━━━━━━━━━━━━━━━━━\u001b[0m\u001b[37m\u001b[0m \u001b[1m0s\u001b[0m 133ms/step\n",
      "\u001b[1m1/1\u001b[0m \u001b[32m━━━━━━━━━━━━━━━━━━━━\u001b[0m\u001b[37m\u001b[0m \u001b[1m0s\u001b[0m 124ms/step\n",
      "\u001b[1m1/1\u001b[0m \u001b[32m━━━━━━━━━━━━━━━━━━━━\u001b[0m\u001b[37m\u001b[0m \u001b[1m0s\u001b[0m 119ms/step\n",
      "\u001b[1m1/1\u001b[0m \u001b[32m━━━━━━━━━━━━━━━━━━━━\u001b[0m\u001b[37m\u001b[0m \u001b[1m0s\u001b[0m 110ms/step\n",
      "\u001b[1m1/1\u001b[0m \u001b[32m━━━━━━━━━━━━━━━━━━━━\u001b[0m\u001b[37m\u001b[0m \u001b[1m0s\u001b[0m 116ms/step\n",
      "\u001b[1m1/1\u001b[0m \u001b[32m━━━━━━━━━━━━━━━━━━━━\u001b[0m\u001b[37m\u001b[0m \u001b[1m0s\u001b[0m 127ms/step\n",
      "\u001b[1m1/1\u001b[0m \u001b[32m━━━━━━━━━━━━━━━━━━━━\u001b[0m\u001b[37m\u001b[0m \u001b[1m0s\u001b[0m 120ms/step\n",
      "\u001b[1m1/1\u001b[0m \u001b[32m━━━━━━━━━━━━━━━━━━━━\u001b[0m\u001b[37m\u001b[0m \u001b[1m0s\u001b[0m 130ms/step\n",
      "\u001b[1m1/1\u001b[0m \u001b[32m━━━━━━━━━━━━━━━━━━━━\u001b[0m\u001b[37m\u001b[0m \u001b[1m0s\u001b[0m 129ms/step\n",
      "\u001b[1m1/1\u001b[0m \u001b[32m━━━━━━━━━━━━━━━━━━━━\u001b[0m\u001b[37m\u001b[0m \u001b[1m0s\u001b[0m 114ms/step\n",
      "\u001b[1m1/1\u001b[0m \u001b[32m━━━━━━━━━━━━━━━━━━━━\u001b[0m\u001b[37m\u001b[0m \u001b[1m0s\u001b[0m 114ms/step\n",
      "\u001b[1m1/1\u001b[0m \u001b[32m━━━━━━━━━━━━━━━━━━━━\u001b[0m\u001b[37m\u001b[0m \u001b[1m0s\u001b[0m 122ms/step\n",
      "\u001b[1m1/1\u001b[0m \u001b[32m━━━━━━━━━━━━━━━━━━━━\u001b[0m\u001b[37m\u001b[0m \u001b[1m0s\u001b[0m 125ms/step\n",
      "\u001b[1m1/1\u001b[0m \u001b[32m━━━━━━━━━━━━━━━━━━━━\u001b[0m\u001b[37m\u001b[0m \u001b[1m0s\u001b[0m 138ms/step\n",
      "\u001b[1m1/1\u001b[0m \u001b[32m━━━━━━━━━━━━━━━━━━━━\u001b[0m\u001b[37m\u001b[0m \u001b[1m0s\u001b[0m 114ms/step\n",
      "\u001b[1m1/1\u001b[0m \u001b[32m━━━━━━━━━━━━━━━━━━━━\u001b[0m\u001b[37m\u001b[0m \u001b[1m0s\u001b[0m 138ms/step\n",
      "\u001b[1m1/1\u001b[0m \u001b[32m━━━━━━━━━━━━━━━━━━━━\u001b[0m\u001b[37m\u001b[0m \u001b[1m0s\u001b[0m 123ms/step\n",
      "\u001b[1m1/1\u001b[0m \u001b[32m━━━━━━━━━━━━━━━━━━━━\u001b[0m\u001b[37m\u001b[0m \u001b[1m0s\u001b[0m 131ms/step\n",
      "\u001b[1m1/1\u001b[0m \u001b[32m━━━━━━━━━━━━━━━━━━━━\u001b[0m\u001b[37m\u001b[0m \u001b[1m0s\u001b[0m 114ms/step\n",
      "\u001b[1m1/1\u001b[0m \u001b[32m━━━━━━━━━━━━━━━━━━━━\u001b[0m\u001b[37m\u001b[0m \u001b[1m0s\u001b[0m 118ms/step\n",
      "\u001b[1m1/1\u001b[0m \u001b[32m━━━━━━━━━━━━━━━━━━━━\u001b[0m\u001b[37m\u001b[0m \u001b[1m0s\u001b[0m 114ms/step\n",
      "\u001b[1m1/1\u001b[0m \u001b[32m━━━━━━━━━━━━━━━━━━━━\u001b[0m\u001b[37m\u001b[0m \u001b[1m0s\u001b[0m 128ms/step\n",
      "\u001b[1m1/1\u001b[0m \u001b[32m━━━━━━━━━━━━━━━━━━━━\u001b[0m\u001b[37m\u001b[0m \u001b[1m0s\u001b[0m 154ms/step\n",
      "\u001b[1m1/1\u001b[0m \u001b[32m━━━━━━━━━━━━━━━━━━━━\u001b[0m\u001b[37m\u001b[0m \u001b[1m0s\u001b[0m 133ms/step\n",
      "\u001b[1m1/1\u001b[0m \u001b[32m━━━━━━━━━━━━━━━━━━━━\u001b[0m\u001b[37m\u001b[0m \u001b[1m0s\u001b[0m 145ms/step\n",
      "\u001b[1m1/1\u001b[0m \u001b[32m━━━━━━━━━━━━━━━━━━━━\u001b[0m\u001b[37m\u001b[0m \u001b[1m0s\u001b[0m 144ms/step\n",
      "\u001b[1m1/1\u001b[0m \u001b[32m━━━━━━━━━━━━━━━━━━━━\u001b[0m\u001b[37m\u001b[0m \u001b[1m0s\u001b[0m 142ms/step\n",
      "\u001b[1m1/1\u001b[0m \u001b[32m━━━━━━━━━━━━━━━━━━━━\u001b[0m\u001b[37m\u001b[0m \u001b[1m0s\u001b[0m 130ms/step\n",
      "\u001b[1m1/1\u001b[0m \u001b[32m━━━━━━━━━━━━━━━━━━━━\u001b[0m\u001b[37m\u001b[0m \u001b[1m0s\u001b[0m 119ms/step\n",
      "\u001b[1m1/1\u001b[0m \u001b[32m━━━━━━━━━━━━━━━━━━━━\u001b[0m\u001b[37m\u001b[0m \u001b[1m0s\u001b[0m 115ms/step\n",
      "\u001b[1m1/1\u001b[0m \u001b[32m━━━━━━━━━━━━━━━━━━━━\u001b[0m\u001b[37m\u001b[0m \u001b[1m0s\u001b[0m 122ms/step\n",
      "\u001b[1m1/1\u001b[0m \u001b[32m━━━━━━━━━━━━━━━━━━━━\u001b[0m\u001b[37m\u001b[0m \u001b[1m0s\u001b[0m 117ms/step\n",
      "\u001b[1m1/1\u001b[0m \u001b[32m━━━━━━━━━━━━━━━━━━━━\u001b[0m\u001b[37m\u001b[0m \u001b[1m0s\u001b[0m 126ms/step\n",
      "\u001b[1m1/1\u001b[0m \u001b[32m━━━━━━━━━━━━━━━━━━━━\u001b[0m\u001b[37m\u001b[0m \u001b[1m0s\u001b[0m 149ms/step\n",
      "\u001b[1m1/1\u001b[0m \u001b[32m━━━━━━━━━━━━━━━━━━━━\u001b[0m\u001b[37m\u001b[0m \u001b[1m0s\u001b[0m 131ms/step\n",
      "\u001b[1m1/1\u001b[0m \u001b[32m━━━━━━━━━━━━━━━━━━━━\u001b[0m\u001b[37m\u001b[0m \u001b[1m0s\u001b[0m 125ms/step\n",
      "\u001b[1m1/1\u001b[0m \u001b[32m━━━━━━━━━━━━━━━━━━━━\u001b[0m\u001b[37m\u001b[0m \u001b[1m0s\u001b[0m 115ms/step\n",
      "\u001b[1m1/1\u001b[0m \u001b[32m━━━━━━━━━━━━━━━━━━━━\u001b[0m\u001b[37m\u001b[0m \u001b[1m0s\u001b[0m 121ms/step\n",
      "\u001b[1m1/1\u001b[0m \u001b[32m━━━━━━━━━━━━━━━━━━━━\u001b[0m\u001b[37m\u001b[0m \u001b[1m0s\u001b[0m 124ms/step\n",
      "\u001b[1m1/1\u001b[0m \u001b[32m━━━━━━━━━━━━━━━━━━━━\u001b[0m\u001b[37m\u001b[0m \u001b[1m0s\u001b[0m 131ms/step\n",
      "\u001b[1m1/1\u001b[0m \u001b[32m━━━━━━━━━━━━━━━━━━━━\u001b[0m\u001b[37m\u001b[0m \u001b[1m0s\u001b[0m 110ms/step\n",
      "\u001b[1m1/1\u001b[0m \u001b[32m━━━━━━━━━━━━━━━━━━━━\u001b[0m\u001b[37m\u001b[0m \u001b[1m0s\u001b[0m 129ms/step\n",
      "\u001b[1m1/1\u001b[0m \u001b[32m━━━━━━━━━━━━━━━━━━━━\u001b[0m\u001b[37m\u001b[0m \u001b[1m0s\u001b[0m 120ms/step\n",
      "\u001b[1m1/1\u001b[0m \u001b[32m━━━━━━━━━━━━━━━━━━━━\u001b[0m\u001b[37m\u001b[0m \u001b[1m0s\u001b[0m 122ms/step\n",
      "\u001b[1m1/1\u001b[0m \u001b[32m━━━━━━━━━━━━━━━━━━━━\u001b[0m\u001b[37m\u001b[0m \u001b[1m0s\u001b[0m 121ms/step\n",
      "\u001b[1m1/1\u001b[0m \u001b[32m━━━━━━━━━━━━━━━━━━━━\u001b[0m\u001b[37m\u001b[0m \u001b[1m0s\u001b[0m 123ms/step\n",
      "\u001b[1m1/1\u001b[0m \u001b[32m━━━━━━━━━━━━━━━━━━━━\u001b[0m\u001b[37m\u001b[0m \u001b[1m0s\u001b[0m 130ms/step\n",
      "\u001b[1m1/1\u001b[0m \u001b[32m━━━━━━━━━━━━━━━━━━━━\u001b[0m\u001b[37m\u001b[0m \u001b[1m0s\u001b[0m 130ms/step\n",
      "\u001b[1m1/1\u001b[0m \u001b[32m━━━━━━━━━━━━━━━━━━━━\u001b[0m\u001b[37m\u001b[0m \u001b[1m0s\u001b[0m 135ms/step\n",
      "\u001b[1m1/1\u001b[0m \u001b[32m━━━━━━━━━━━━━━━━━━━━\u001b[0m\u001b[37m\u001b[0m \u001b[1m0s\u001b[0m 128ms/step\n",
      "\u001b[1m1/1\u001b[0m \u001b[32m━━━━━━━━━━━━━━━━━━━━\u001b[0m\u001b[37m\u001b[0m \u001b[1m0s\u001b[0m 149ms/step\n",
      "\u001b[1m1/1\u001b[0m \u001b[32m━━━━━━━━━━━━━━━━━━━━\u001b[0m\u001b[37m\u001b[0m \u001b[1m0s\u001b[0m 148ms/step\n",
      "\u001b[1m1/1\u001b[0m \u001b[32m━━━━━━━━━━━━━━━━━━━━\u001b[0m\u001b[37m\u001b[0m \u001b[1m0s\u001b[0m 135ms/step\n",
      "\u001b[1m1/1\u001b[0m \u001b[32m━━━━━━━━━━━━━━━━━━━━\u001b[0m\u001b[37m\u001b[0m \u001b[1m0s\u001b[0m 122ms/step\n",
      "\u001b[1m1/1\u001b[0m \u001b[32m━━━━━━━━━━━━━━━━━━━━\u001b[0m\u001b[37m\u001b[0m \u001b[1m0s\u001b[0m 169ms/step\n"
     ]
    },
    {
     "data": {
      "image/png": "[encoded data removed]",
      "text/plain": [
       "<Figure size 640x480 with 2 Axes>"
      ]
     },
     "metadata": {},
     "output_type": "display_data"
    },
    {
     "name": "stdout",
     "output_type": "stream",
     "text": [
      "              precision    recall  f1-score   support\n",
      "\n",
      "        Gato       0.75      0.68      0.71      1011\n",
      "       Perro       0.71      0.77      0.74      1012\n",
      "\n",
      "    accuracy                           0.72      2023\n",
      "   macro avg       0.73      0.72      0.72      2023\n",
      "weighted avg       0.73      0.72      0.72      2023\n",
      "\n"
     ]
    }
   ],
   "source": [
    "import matplotlib.pyplot as plt\n",
    "from sklearn.metrics import confusion_matrix, classification_report\n",
    "import seaborn as sns\n",
    "\n",
    "# Curvas de aprendizaje\n",
    "plt.figure(figsize=(12, 4))\n",
    "plt.subplot(1, 2, 1)\n",
    "plt.plot(history.history['accuracy'], label='Entrenamiento')\n",
    "plt.plot(history.history['val_accuracy'], label='Validación')\n",
    "plt.title('Precisión')\n",
    "plt.legend()\n",
    "\n",
    "plt.subplot(1, 2, 2)\n",
    "plt.plot(history.history['loss'], label='Entrenamiento')\n",
    "plt.plot(history.history['val_loss'], label='Validación')\n",
    "plt.title('Pérdida')\n",
    "plt.legend()\n",
    "plt.show()\n",
    "\n",
    "# Matriz de confusión\n",
    "y_true = []\n",
    "y_pred = []\n",
    "for images, labels in test_dataset:\n",
    "    y_true.extend(labels.numpy())\n",
    "    y_pred.extend(model.predict(images) > 0.5)\n",
    "\n",
    "cm = confusion_matrix(y_true, y_pred)\n",
    "sns.heatmap(cm, annot=True, fmt='d', xticklabels=['Gato', 'Perro'], yticklabels=['Gato', 'Perro'])\n",
    "plt.xlabel('Predicciones')\n",
    "plt.ylabel('Reales')\n",
    "plt.title('Matriz de Confusión')\n",
    "plt.show()\n",
    "\n",
    "# Reporte de clasificación\n",
    "print(classification_report(y_true, y_pred, target_names=['Gato', 'Perro']))"
   ]
  },
  {
   "cell_type": "code",
   "execution_count": null,
   "id": "ebfa220f-b22b-4423-8838-2063749bf208",
   "metadata": {},
   "outputs": [],
   "source": [
    "#4.- Despliegue del Modelo"
   ]
  },
  {
   "cell_type": "code",
   "execution_count": null,
   "id": "643934fd-a58d-48fe-87f2-b96ed1b06913",
   "metadata": {},
   "outputs": [],
   "source": [
    "#Interfaz Web con Streamlit"
   ]
  },
  {
   "cell_type": "code",
   "execution_count": 23,
   "id": "f9e1ff9c-aa0e-4e63-a0d9-2ad239a6b96e",
   "metadata": {},
   "outputs": [],
   "source": [
    "with open(\"app.py\", \"w\", encoding=\"utf-8\") as f:\n",
    "    f.write(\"\"\"import streamlit as st\n",
    "from PIL import Image\n",
    "import tensorflow as tf\n",
    "import numpy as np\n",
    "\n",
    "model = tf.keras.models.load_model('modelo_gatos_perros.keras')\n",
    "st.title('Clasificador Perro vs. Gato 🐾')\n",
    "\n",
    "uploaded_file = st.file_uploader(\"Sube una imagen (JPEG/PNG)\")\n",
    "if uploaded_file:\n",
    "    image = Image.open(uploaded_file).resize((150, 150))\n",
    "    img_array = tf.keras.preprocessing.image.img_to_array(image) / 255.0\n",
    "    img_array = tf.expand_dims(img_array, 0)\n",
    "\n",
    "    prediction = model.predict(img_array)[0][0]\n",
    "    class_name = \"Perro 🐶\" if prediction > 0.5 else \"Gato 🐱\"\n",
    "    confidence = prediction * 100 if prediction > 0.5 else (1 - prediction) * 100\n",
    "\n",
    "    st.success(f\"**Predicción:** {class_name} | **Confianza:** {confidence:.2f}%\")\n",
    "    st.image(image, width=200)\n",
    "\"\"\")"
   ]
  },
  {
   "cell_type": "code",
   "execution_count": null,
   "id": "2c284d68-e584-4b8f-9f2c-42995ede0757",
   "metadata": {},
   "outputs": [],
   "source": [
    "#Instrucciones para Despliegue"
   ]
  },
  {
   "cell_type": "code",
   "execution_count": 19,
   "id": "d00dffdb-b7f9-42ff-bb0f-1c400850d891",
   "metadata": {},
   "outputs": [],
   "source": [
    "# Crear el archivo requirements.txt\n",
    "with open(\"requirements.txt\", \"w\") as f:\n",
    "    f.write(\"\"\"tensorflow==2.16.1\n",
    "streamlit==1.36.0\n",
    "numpy==1.26.4\n",
    "Pillow==10.3.0\n",
    "\"\"\")"
   ]
  },
  {
   "cell_type": "code",
   "execution_count": 22,
   "id": "152b622b-d680-45fb-8886-3458e62cbb58",
   "metadata": {},
   "outputs": [
    {
     "name": "stdout",
     "output_type": "stream",
     "text": [
      "Collecting tensorflow==2.16.1 (from -r requirements.txt (line 1))\n",
      "  Using cached tensorflow-2.16.1-cp312-cp312-win_amd64.whl.metadata (3.5 kB)\n",
      "Collecting streamlit==1.36.0 (from -r requirements.txt (line 2))\n",
      "  Using cached streamlit-1.36.0-py2.py3-none-any.whl.metadata (8.5 kB)\n",
      "Requirement already satisfied: numpy==1.26.4 in c:\\users\\amavi\\appdata\\roaming\\python\\python312\\site-packages (from -r requirements.txt (line 3)) (1.26.4)\n",
      "Requirement already satisfied: Pillow==10.3.0 in c:\\users\\amavi\\appdata\\roaming\\python\\python312\\site-packages (from -r requirements.txt (line 4)) (10.3.0)\n",
      "Requirement already satisfied: tensorflow-intel==2.16.1 in c:\\users\\amavi\\appdata\\roaming\\python\\python312\\site-packages (from tensorflow==2.16.1->-r requirements.txt (line 1)) (2.16.1)\n",
      "Collecting altair<6,>=4.0 (from streamlit==1.36.0->-r requirements.txt (line 2))\n",
      "  Using cached altair-5.5.0-py3-none-any.whl.metadata (11 kB)\n",
      "Requirement already satisfied: blinker<2,>=1.0.0 in c:\\users\\amavi\\appdata\\roaming\\python\\python312\\site-packages (from streamlit==1.36.0->-r requirements.txt (line 2)) (1.9.0)\n",
      "Requirement already satisfied: cachetools<6,>=4.0 in c:\\users\\amavi\\appdata\\roaming\\python\\python312\\site-packages (from streamlit==1.36.0->-r requirements.txt (line 2)) (5.5.2)\n",
      "Requirement already satisfied: click<9,>=7.0 in c:\\python312\\lib\\site-packages (from streamlit==1.36.0->-r requirements.txt (line 2)) (8.1.7)\n",
      "Requirement already satisfied: packaging<25,>=20 in c:\\users\\amavi\\appdata\\roaming\\python\\python312\\site-packages (from streamlit==1.36.0->-r requirements.txt (line 2)) (23.2)\n",
      "Requirement already satisfied: pandas<3,>=1.3.0 in c:\\python312\\lib\\site-packages (from streamlit==1.36.0->-r requirements.txt (line 2)) (2.2.3)\n",
      "Requirement already satisfied: protobuf<6,>=3.20 in c:\\users\\amavi\\appdata\\roaming\\python\\python312\\site-packages (from streamlit==1.36.0->-r requirements.txt (line 2)) (4.25.6)\n",
      "Requirement already satisfied: pyarrow>=7.0 in c:\\users\\amavi\\appdata\\roaming\\python\\python312\\site-packages (from streamlit==1.36.0->-r requirements.txt (line 2)) (19.0.1)\n",
      "Requirement already satisfied: requests<3,>=2.27 in c:\\python312\\lib\\site-packages (from streamlit==1.36.0->-r requirements.txt (line 2)) (2.32.3)\n",
      "Requirement already satisfied: rich<14,>=10.14.0 in c:\\python312\\lib\\site-packages (from streamlit==1.36.0->-r requirements.txt (line 2)) (13.9.4)\n",
      "Requirement already satisfied: tenacity<9,>=8.1.0 in c:\\users\\amavi\\appdata\\roaming\\python\\python312\\site-packages (from streamlit==1.36.0->-r requirements.txt (line 2)) (8.5.0)\n",
      "Requirement already satisfied: toml<2,>=0.10.1 in c:\\users\\amavi\\appdata\\roaming\\python\\python312\\site-packages (from streamlit==1.36.0->-r requirements.txt (line 2)) (0.10.2)\n",
      "Requirement already satisfied: typing-extensions<5,>=4.3.0 in c:\\python312\\lib\\site-packages (from streamlit==1.36.0->-r requirements.txt (line 2)) (4.12.2)\n",
      "Requirement already satisfied: gitpython!=3.1.19,<4,>=3.0.7 in c:\\users\\amavi\\appdata\\roaming\\python\\python312\\site-packages (from streamlit==1.36.0->-r requirements.txt (line 2)) (3.1.44)\n",
      "Requirement already satisfied: pydeck<1,>=0.8.0b4 in c:\\users\\amavi\\appdata\\roaming\\python\\python312\\site-packages (from streamlit==1.36.0->-r requirements.txt (line 2)) (0.9.1)\n",
      "Requirement already satisfied: tornado<7,>=6.0.3 in c:\\users\\amavi\\appdata\\roaming\\python\\python312\\site-packages (from streamlit==1.36.0->-r requirements.txt (line 2)) (6.4)\n",
      "Requirement already satisfied: watchdog<5,>=2.1.5 in c:\\users\\amavi\\appdata\\roaming\\python\\python312\\site-packages (from streamlit==1.36.0->-r requirements.txt (line 2)) (4.0.2)\n",
      "Requirement already satisfied: absl-py>=1.0.0 in c:\\python312\\lib\\site-packages (from tensorflow-intel==2.16.1->tensorflow==2.16.1->-r requirements.txt (line 1)) (2.1.0)\n",
      "Requirement already satisfied: astunparse>=1.6.0 in c:\\python312\\lib\\site-packages (from tensorflow-intel==2.16.1->tensorflow==2.16.1->-r requirements.txt (line 1)) (1.6.3)\n",
      "Requirement already satisfied: flatbuffers>=23.5.26 in c:\\python312\\lib\\site-packages (from tensorflow-intel==2.16.1->tensorflow==2.16.1->-r requirements.txt (line 1)) (24.12.23)\n",
      "Requirement already satisfied: gast!=0.5.0,!=0.5.1,!=0.5.2,>=0.2.1 in c:\\python312\\lib\\site-packages (from tensorflow-intel==2.16.1->tensorflow==2.16.1->-r requirements.txt (line 1)) (0.6.0)\n",
      "Requirement already satisfied: google-pasta>=0.1.1 in c:\\python312\\lib\\site-packages (from tensorflow-intel==2.16.1->tensorflow==2.16.1->-r requirements.txt (line 1)) (0.2.0)\n",
      "Requirement already satisfied: h5py>=3.10.0 in c:\\python312\\lib\\site-packages (from tensorflow-intel==2.16.1->tensorflow==2.16.1->-r requirements.txt (line 1)) (3.12.1)\n",
      "Requirement already satisfied: libclang>=13.0.0 in c:\\python312\\lib\\site-packages (from tensorflow-intel==2.16.1->tensorflow==2.16.1->-r requirements.txt (line 1)) (18.1.1)\n",
      "Requirement already satisfied: ml-dtypes~=0.3.1 in c:\\users\\amavi\\appdata\\roaming\\python\\python312\\site-packages (from tensorflow-intel==2.16.1->tensorflow==2.16.1->-r requirements.txt (line 1)) (0.3.2)\n",
      "Requirement already satisfied: opt-einsum>=2.3.2 in c:\\python312\\lib\\site-packages (from tensorflow-intel==2.16.1->tensorflow==2.16.1->-r requirements.txt (line 1)) (3.4.0)\n",
      "Requirement already satisfied: setuptools in c:\\python312\\lib\\site-packages (from tensorflow-intel==2.16.1->tensorflow==2.16.1->-r requirements.txt (line 1)) (75.6.0)\n",
      "Requirement already satisfied: six>=1.12.0 in c:\\users\\amavi\\appdata\\roaming\\python\\python312\\site-packages (from tensorflow-intel==2.16.1->tensorflow==2.16.1->-r requirements.txt (line 1)) (1.16.0)\n",
      "Requirement already satisfied: termcolor>=1.1.0 in c:\\python312\\lib\\site-packages (from tensorflow-intel==2.16.1->tensorflow==2.16.1->-r requirements.txt (line 1)) (2.5.0)\n",
      "Requirement already satisfied: wrapt>=1.11.0 in c:\\python312\\lib\\site-packages (from tensorflow-intel==2.16.1->tensorflow==2.16.1->-r requirements.txt (line 1)) (1.17.0)\n",
      "Requirement already satisfied: grpcio<2.0,>=1.24.3 in c:\\python312\\lib\\site-packages (from tensorflow-intel==2.16.1->tensorflow==2.16.1->-r requirements.txt (line 1)) (1.68.1)\n",
      "Requirement already satisfied: tensorboard<2.17,>=2.16 in c:\\users\\amavi\\appdata\\roaming\\python\\python312\\site-packages (from tensorflow-intel==2.16.1->tensorflow==2.16.1->-r requirements.txt (line 1)) (2.16.2)\n",
      "Requirement already satisfied: keras>=3.0.0 in c:\\python312\\lib\\site-packages (from tensorflow-intel==2.16.1->tensorflow==2.16.1->-r requirements.txt (line 1)) (3.7.0)\n",
      "Requirement already satisfied: jinja2 in c:\\python312\\lib\\site-packages (from altair<6,>=4.0->streamlit==1.36.0->-r requirements.txt (line 2)) (3.1.4)\n",
      "Requirement already satisfied: jsonschema>=3.0 in c:\\python312\\lib\\site-packages (from altair<6,>=4.0->streamlit==1.36.0->-r requirements.txt (line 2)) (4.23.0)\n",
      "Requirement already satisfied: narwhals>=1.14.2 in c:\\users\\amavi\\appdata\\roaming\\python\\python312\\site-packages (from altair<6,>=4.0->streamlit==1.36.0->-r requirements.txt (line 2)) (1.35.0)\n",
      "Requirement already satisfied: colorama in c:\\users\\amavi\\appdata\\roaming\\python\\python312\\site-packages (from click<9,>=7.0->streamlit==1.36.0->-r requirements.txt (line 2)) (0.4.6)\n",
      "Requirement already satisfied: gitdb<5,>=4.0.1 in c:\\users\\amavi\\appdata\\roaming\\python\\python312\\site-packages (from gitpython!=3.1.19,<4,>=3.0.7->streamlit==1.36.0->-r requirements.txt (line 2)) (4.0.12)\n",
      "Requirement already satisfied: python-dateutil>=2.8.2 in c:\\users\\amavi\\appdata\\roaming\\python\\python312\\site-packages (from pandas<3,>=1.3.0->streamlit==1.36.0->-r requirements.txt (line 2)) (2.8.2)\n",
      "Requirement already satisfied: pytz>=2020.1 in c:\\python312\\lib\\site-packages (from pandas<3,>=1.3.0->streamlit==1.36.0->-r requirements.txt (line 2)) (2024.1)\n",
      "Requirement already satisfied: tzdata>=2022.7 in c:\\python312\\lib\\site-packages (from pandas<3,>=1.3.0->streamlit==1.36.0->-r requirements.txt (line 2)) (2024.1)\n",
      "Requirement already satisfied: charset-normalizer<4,>=2 in c:\\python312\\lib\\site-packages (from requests<3,>=2.27->streamlit==1.36.0->-r requirements.txt (line 2)) (3.4.0)\n",
      "Requirement already satisfied: idna<4,>=2.5 in c:\\python312\\lib\\site-packages (from requests<3,>=2.27->streamlit==1.36.0->-r requirements.txt (line 2)) (3.10)\n",
      "Requirement already satisfied: urllib3<3,>=1.21.1 in c:\\python312\\lib\\site-packages (from requests<3,>=2.27->streamlit==1.36.0->-r requirements.txt (line 2)) (2.2.3)\n",
      "Requirement already satisfied: certifi>=2017.4.17 in c:\\python312\\lib\\site-packages (from requests<3,>=2.27->streamlit==1.36.0->-r requirements.txt (line 2)) (2024.8.30)\n",
      "Requirement already satisfied: markdown-it-py>=2.2.0 in c:\\python312\\lib\\site-packages (from rich<14,>=10.14.0->streamlit==1.36.0->-r requirements.txt (line 2)) (3.0.0)\n",
      "Requirement already satisfied: pygments<3.0.0,>=2.13.0 in c:\\users\\amavi\\appdata\\roaming\\python\\python312\\site-packages (from rich<14,>=10.14.0->streamlit==1.36.0->-r requirements.txt (line 2)) (2.17.2)\n",
      "Requirement already satisfied: wheel<1.0,>=0.23.0 in c:\\python312\\lib\\site-packages (from astunparse>=1.6.0->tensorflow-intel==2.16.1->tensorflow==2.16.1->-r requirements.txt (line 1)) (0.45.1)\n",
      "Requirement already satisfied: smmap<6,>=3.0.1 in c:\\users\\amavi\\appdata\\roaming\\python\\python312\\site-packages (from gitdb<5,>=4.0.1->gitpython!=3.1.19,<4,>=3.0.7->streamlit==1.36.0->-r requirements.txt (line 2)) (5.0.2)\n",
      "Requirement already satisfied: MarkupSafe>=2.0 in c:\\python312\\lib\\site-packages (from jinja2->altair<6,>=4.0->streamlit==1.36.0->-r requirements.txt (line 2)) (3.0.2)\n",
      "Requirement already satisfied: attrs>=22.2.0 in c:\\python312\\lib\\site-packages (from jsonschema>=3.0->altair<6,>=4.0->streamlit==1.36.0->-r requirements.txt (line 2)) (24.2.0)\n",
      "Requirement already satisfied: jsonschema-specifications>=2023.03.6 in c:\\python312\\lib\\site-packages (from jsonschema>=3.0->altair<6,>=4.0->streamlit==1.36.0->-r requirements.txt (line 2)) (2024.10.1)\n",
      "Requirement already satisfied: referencing>=0.28.4 in c:\\python312\\lib\\site-packages (from jsonschema>=3.0->altair<6,>=4.0->streamlit==1.36.0->-r requirements.txt (line 2)) (0.35.1)\n",
      "Requirement already satisfied: rpds-py>=0.7.1 in c:\\python312\\lib\\site-packages (from jsonschema>=3.0->altair<6,>=4.0->streamlit==1.36.0->-r requirements.txt (line 2)) (0.20.0)\n",
      "Requirement already satisfied: namex in c:\\python312\\lib\\site-packages (from keras>=3.0.0->tensorflow-intel==2.16.1->tensorflow==2.16.1->-r requirements.txt (line 1)) (0.0.8)\n",
      "Requirement already satisfied: optree in c:\\python312\\lib\\site-packages (from keras>=3.0.0->tensorflow-intel==2.16.1->tensorflow==2.16.1->-r requirements.txt (line 1)) (0.13.1)\n",
      "Requirement already satisfied: mdurl~=0.1 in c:\\python312\\lib\\site-packages (from markdown-it-py>=2.2.0->rich<14,>=10.14.0->streamlit==1.36.0->-r requirements.txt (line 2)) (0.1.2)\n",
      "Requirement already satisfied: markdown>=2.6.8 in c:\\python312\\lib\\site-packages (from tensorboard<2.17,>=2.16->tensorflow-intel==2.16.1->tensorflow==2.16.1->-r requirements.txt (line 1)) (3.7)\n",
      "Requirement already satisfied: tensorboard-data-server<0.8.0,>=0.7.0 in c:\\python312\\lib\\site-packages (from tensorboard<2.17,>=2.16->tensorflow-intel==2.16.1->tensorflow==2.16.1->-r requirements.txt (line 1)) (0.7.2)\n",
      "Requirement already satisfied: werkzeug>=1.0.1 in c:\\python312\\lib\\site-packages (from tensorboard<2.17,>=2.16->tensorflow-intel==2.16.1->tensorflow==2.16.1->-r requirements.txt (line 1)) (3.1.3)\n",
      "Using cached tensorflow-2.16.1-cp312-cp312-win_amd64.whl (2.1 kB)\n",
      "Using cached streamlit-1.36.0-py2.py3-none-any.whl (8.6 MB)\n",
      "Using cached altair-5.5.0-py3-none-any.whl (731 kB)\n",
      "Installing collected packages: altair, tensorflow, streamlit\n",
      "Successfully installed altair-5.5.0 streamlit-1.36.0 tensorflow-2.16.1\n"
     ]
    },
    {
     "name": "stderr",
     "output_type": "stream",
     "text": [
      "\n",
      "[notice] A new release of pip is available: 24.3.1 -> 25.0.1\n",
      "[notice] To update, run: python.exe -m pip install --upgrade pip\n"
     ]
    }
   ],
   "source": [
    "# Instalar dependencias con pip\n",
    "!pip install --user -r requirements.txt"
   ]
  },
  {
   "cell_type": "code",
   "execution_count": 24,
   "id": "1c1f02e8-90f6-43be-9e10-763dbfc17cc5",
   "metadata": {},
   "outputs": [
    {
     "data": {
      "text/plain": [
       "'c:\\\\Users\\\\amavi\\\\Documents\\\\cursos\\\\UPC\\\\TALLERES'"
      ]
     },
     "execution_count": 24,
     "metadata": {},
     "output_type": "execute_result"
    }
   ],
   "source": [
    "import os\n",
    "os.getcwd()"
   ]
  },
  {
   "cell_type": "code",
   "execution_count": 25,
   "id": "df401dcb-2d60-4ed7-9cd3-94d5d175daf5",
   "metadata": {
    "scrolled": true
   },
   "outputs": [
    {
     "name": "stdout",
     "output_type": "stream",
     "text": [
      "['app.py', 'modelo_gatos_perros.keras', 'requirements.txt', 'SESION 1', 'SESION 2', 'SESION 3', 'test', 'test.zip', 'Trabajo final.docx', 'Trabajo fnal Talleres UPC.ipynb', 'Trabajo fnal Talleres.ipynb', 'training', 'training.zip', '~WRL0005.tmp']\n"
     ]
    }
   ],
   "source": [
    "import os\n",
    "print(os.listdir())"
   ]
  },
  {
   "cell_type": "code",
   "execution_count": 29,
   "id": "9ea84eaf",
   "metadata": {},
   "outputs": [
    {
     "name": "stdout",
     "output_type": "stream",
     "text": [
      "Ubicación de streamlit: c:\\Users\\amavi\\AppData\\Roaming\\Python\\Python312\\Scripts\\streamlit.EXE\n"
     ]
    }
   ],
   "source": [
    "import shutil\n",
    "\n",
    "ruta = shutil.which(\"streamlit\")\n",
    "print(\"Ubicación de streamlit:\", ruta)\n"
   ]
  },
  {
   "cell_type": "code",
   "execution_count": 32,
   "id": "ffbf54f1-71c0-4ef5-b755-bdd7d759b05d",
   "metadata": {},
   "outputs": [
    {
     "data": {
      "text/plain": [
       "0"
      ]
     },
     "execution_count": 32,
     "metadata": {},
     "output_type": "execute_result"
    }
   ],
   "source": [
    "import os\n",
    "\n",
    "os.chdir(\"c:\\\\Users\\\\amavi\\\\Documents\\\\cursos\\\\UPC\\\\TALLERES\")  \n",
    "\n",
    "os.system(r'start /B \"\" \"c:\\Users\\amavi\\AppData\\Roaming\\Python\\Python312\\Scripts\\streamlit.exe\" run app.py')\n"
   ]
  }
 ],
 "metadata": {
  "kernelspec": {
   "display_name": "Python 3",
   "language": "python",
   "name": "python3"
  },
  "language_info": {
   "codemirror_mode": {
    "name": "ipython",
    "version": 3
   },
   "file_extension": ".py",
   "mimetype": "text/x-python",
   "name": "python",
   "nbconvert_exporter": "python",
   "pygments_lexer": "ipython3",
   "version": "3.12.0"
  }
 },
 "nbformat": 4,
 "nbformat_minor": 5
}
